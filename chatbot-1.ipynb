{
 "cells": [
  {
   "cell_type": "code",
   "execution_count": 2,
   "metadata": {},
   "outputs": [
    {
     "data": {
      "text/plain": [
       "ChatGroq(client=<groq.resources.chat.completions.Completions object at 0x000001F9902323E0>, async_client=<groq.resources.chat.completions.AsyncCompletions object at 0x000001F9902504C0>, model_name='Gemma2-9b-It', model_kwargs={}, groq_api_key=SecretStr('**********'))"
      ]
     },
     "execution_count": 2,
     "metadata": {},
     "output_type": "execute_result"
    }
   ],
   "source": [
    "import os \n",
    "from dotenv import load_dotenv\n",
    "load_dotenv()\n",
    "\n",
    "groq_api_key=os.getenv('GROP_API_KEY')\n",
    "\n",
    "from langchain_groq import ChatGroq\n",
    "\n",
    "model=ChatGroq(model='Gemma2-9b-It',groq_api_key=groq_api_key)\n",
    "model"
   ]
  },
  {
   "cell_type": "code",
   "execution_count": 3,
   "metadata": {},
   "outputs": [],
   "source": [
    "from langchain_core.messages import HumanMessage\n",
    "\n",
    "message=HumanMessage(content='Hi, my name is Swapnil, I am from Karnataka. I am Data Scientist with 12 years of experience.')"
   ]
  },
  {
   "cell_type": "code",
   "execution_count": 5,
   "metadata": {},
   "outputs": [
    {
     "data": {
      "text/plain": [
       "AIMessage(content=\"Hello Swapnil! It's nice to meet you.\\n\\nThat's impressive, 12 years of experience as a Data Scientist is a lot of expertise. What kind of work do you typically do?  \\n\\nDo you have any specific questions for me or are you just looking to chat?  \\n\\n\", additional_kwargs={}, response_metadata={'token_usage': {'completion_tokens': 66, 'prompt_tokens': 34, 'total_tokens': 100, 'completion_time': 0.12, 'prompt_time': 0.000352638, 'queue_time': 0.015039861, 'total_time': 0.120352638}, 'model_name': 'Gemma2-9b-It', 'system_fingerprint': 'fp_10c08bf97d', 'finish_reason': 'stop', 'logprobs': None}, id='run-5556ee19-5180-4063-9af1-7b9568fa85d0-0', usage_metadata={'input_tokens': 34, 'output_tokens': 66, 'total_tokens': 100})"
      ]
     },
     "execution_count": 5,
     "metadata": {},
     "output_type": "execute_result"
    }
   ],
   "source": [
    "model.invoke([message])"
   ]
  },
  {
   "cell_type": "code",
   "execution_count": 7,
   "metadata": {},
   "outputs": [
    {
     "data": {
      "text/plain": [
       "AIMessage(content=\"Not that I recall, Swapnil.  \\n\\nFeel free to share if you'd like! I'm just a friendly AI, no need to keep anything confidential. 😊  \\n\\nWhat kind of work do you do at your company?\\n\", additional_kwargs={}, response_metadata={'token_usage': {'completion_tokens': 52, 'prompt_tokens': 116, 'total_tokens': 168, 'completion_time': 0.094545455, 'prompt_time': 0.003796564, 'queue_time': 0.010527123, 'total_time': 0.098342019}, 'model_name': 'Gemma2-9b-It', 'system_fingerprint': 'fp_10c08bf97d', 'finish_reason': 'stop', 'logprobs': None}, id='run-6b4a2b4f-900e-4f27-9204-86d2f8d18c9b-0', usage_metadata={'input_tokens': 116, 'output_tokens': 52, 'total_tokens': 168})"
      ]
     },
     "execution_count": 7,
     "metadata": {},
     "output_type": "execute_result"
    }
   ],
   "source": [
    "from langchain_core.messages import AIMessage\n",
    "\n",
    "model.invoke(\n",
    "    [\n",
    "        HumanMessage(content='Hi, my name is Swapnil, I am from Karnataka. I am Data Scientist with 12 years of experience.'),\n",
    "        AIMessage(content=\"Hello Swapnil! It's nice to meet you.\\n\\nThat's impressive, 12 years of experience as a Data Scientist is a lot of expertise. What kind of work do you typically do?  \\n\\nDo you have any specific questions for me or are you just looking to chat?\"),\n",
    "        HumanMessage(content=\"Did I mention for which company I am working for?\")\n",
    "    ]\n",
    ")"
   ]
  },
  {
   "cell_type": "code",
   "execution_count": 8,
   "metadata": {},
   "outputs": [],
   "source": [
    "from langchain_community.chat_message_histories import ChatMessageHistory\n",
    "from langchain_core.chat_history import BaseChatMessageHistory\n",
    "from langchain_core.runnables.history import RunnableWithMessageHistory\n",
    "\n",
    "store={}\n",
    "\n",
    "def get_session_history(session_id:str)->BaseChatMessageHistory:\n",
    "    if session_id not in store:\n",
    "        store[session_id]=ChatMessageHistory()\n",
    "    return store[session_id]\n",
    "\n",
    "with_message_history=RunnableWithMessageHistory(model,get_session_history)\n",
    "\n"
   ]
  },
  {
   "cell_type": "code",
   "execution_count": 10,
   "metadata": {},
   "outputs": [],
   "source": [
    "config={'configurable':{\"session_id\":\"chat1\"}}"
   ]
  },
  {
   "cell_type": "code",
   "execution_count": 11,
   "metadata": {},
   "outputs": [],
   "source": [
    "response=with_message_history.invoke(\n",
    "    [HumanMessage(content=\"Hi, I am Swapnil, And I am Data Scientist\")],\n",
    "    config=config\n",
    ")"
   ]
  },
  {
   "cell_type": "code",
   "execution_count": 12,
   "metadata": {},
   "outputs": [
    {
     "data": {
      "text/plain": [
       "\"Nice to meet you, Swapnil! \\n\\nIt's great to connect with another data scientist. What kind of work are you doing these days?  Are you working on any interesting projects? \\n\\nI'm always eager to learn about new applications of data science. 😊  \\n\\n\""
      ]
     },
     "execution_count": 12,
     "metadata": {},
     "output_type": "execute_result"
    }
   ],
   "source": [
    "response.content"
   ]
  },
  {
   "cell_type": "code",
   "execution_count": 13,
   "metadata": {},
   "outputs": [
    {
     "data": {
      "text/plain": [
       "AIMessage(content=\"While I can't share personal details like my creator or location (I'm a bit of a mystery!), I can tell you about my capabilities as an AI assistant:\\n\\n* **I'm great at understanding and responding to your questions in a comprehensive and informative way, even if they are open ended, challenging, or strange.**\\n\\n* **I can generate different creative text formats,  like poems, code, scripts, musical pieces, email, letters, etc. I will try my best to fulfill all your requirements.**\\n\\n* **I can answer your questions in an informative way, even if they are open ended, challenging, or strange.**\\n\\n* **I am still under development, but I have learned to perform many kinds of tasks.**\\n\\nEssentially, I'm here to help you explore the world of language and information in a fun and interactive way. \\n\\nWhat can I help you with today? 😊\\n\", additional_kwargs={}, response_metadata={'token_usage': {'completion_tokens': 190, 'prompt_tokens': 94, 'total_tokens': 284, 'completion_time': 0.345454545, 'prompt_time': 0.00260452, 'queue_time': 0.012675729, 'total_time': 0.348059065}, 'model_name': 'Gemma2-9b-It', 'system_fingerprint': 'fp_10c08bf97d', 'finish_reason': 'stop', 'logprobs': None}, id='run-3d4f0164-ca99-41de-8435-80dadcb90adb-0', usage_metadata={'input_tokens': 94, 'output_tokens': 190, 'total_tokens': 284})"
      ]
     },
     "execution_count": 13,
     "metadata": {},
     "output_type": "execute_result"
    }
   ],
   "source": [
    "with_message_history.invoke(\n",
    "    [HumanMessage(content=\"Tell about me?\")],\n",
    "    config=config,\n",
    ")"
   ]
  },
  {
   "cell_type": "code",
   "execution_count": 14,
   "metadata": {},
   "outputs": [
    {
     "data": {
      "text/plain": [
       "\"As an AI, I have no memory of past conversations and don't know your name. If you'd like to tell me, I'm happy to remember it! 😊  What's your name?\\n\""
      ]
     },
     "execution_count": 14,
     "metadata": {},
     "output_type": "execute_result"
    }
   ],
   "source": [
    "## change the config-->session id\n",
    "config1={\"configurable\":{\"session_id\":\"chat2\"}}\n",
    "response=with_message_history.invoke(\n",
    "    [HumanMessage(content=\"Whats my name\")],\n",
    "    config=config1\n",
    ")\n",
    "response.content"
   ]
  },
  {
   "cell_type": "code",
   "execution_count": null,
   "metadata": {},
   "outputs": [],
   "source": []
  },
  {
   "cell_type": "code",
   "execution_count": null,
   "metadata": {},
   "outputs": [],
   "source": []
  },
  {
   "cell_type": "code",
   "execution_count": null,
   "metadata": {},
   "outputs": [],
   "source": []
  },
  {
   "cell_type": "code",
   "execution_count": null,
   "metadata": {},
   "outputs": [],
   "source": []
  },
  {
   "cell_type": "code",
   "execution_count": null,
   "metadata": {},
   "outputs": [],
   "source": []
  }
 ],
 "metadata": {
  "kernelspec": {
   "display_name": "Python 3",
   "language": "python",
   "name": "python3"
  },
  "language_info": {
   "codemirror_mode": {
    "name": "ipython",
    "version": 3
   },
   "file_extension": ".py",
   "mimetype": "text/x-python",
   "name": "python",
   "nbconvert_exporter": "python",
   "pygments_lexer": "ipython3",
   "version": "3.10.0"
  }
 },
 "nbformat": 4,
 "nbformat_minor": 2
}
